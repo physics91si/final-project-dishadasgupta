{
 "cells": [
  {
   "cell_type": "code",
   "execution_count": 11,
   "metadata": {},
   "outputs": [],
   "source": [
    "import matplotlib.pyplot as plt\n",
    "import numpy as np"
   ]
  },
  {
   "cell_type": "code",
   "execution_count": 12,
   "metadata": {},
   "outputs": [],
   "source": [
    "keyWords = {'great':4, 'amazing':4, 'awesome':4, 'good':3, 'engaging':3, 'interesting':3, 'easy':3, 'difficult':2, 'challenging':2,'terrible':1, 'bad':1, 'horrible':1}"
   ]
  },
  {
   "cell_type": "code",
   "execution_count": 19,
   "metadata": {},
   "outputs": [],
   "source": [
    "def load_text(text):\n",
    "    with open(text, encoding=\"utf8\") as f:\n",
    "        sample = f.read()\n",
    "    return sample"
   ]
  },
  {
   "cell_type": "code",
   "execution_count": 20,
   "metadata": {},
   "outputs": [],
   "source": [
    "def clean_text(text):\n",
    "    newSoc = text.replace('\\n', '')\n",
    "    newSoc = newSoc.replace(')', ' ')\n",
    "    newSoc = newSoc.split(' ')\n",
    "    for x in range(0, len(newSoc)):\n",
    "        newSoc[x] = newSoc[x].strip('.-,():;!\\\"\\'&') \n",
    "        newSoc[x] = newSoc[x].lower()\n",
    "    return newSoc"
   ]
  },
  {
   "cell_type": "code",
   "execution_count": 21,
   "metadata": {},
   "outputs": [],
   "source": [
    "def count_freq(textList):\n",
    "    freq_dict = {}\n",
    "    \n",
    "    for x in textList:\n",
    "        if x in freq_dict:\n",
    "            freq_dict[x] = freq_dict[x] + 1\n",
    "        else:\n",
    "            freq_dict[x] = 1    \n",
    "    \n",
    "    return freq_dict"
   ]
  },
  {
   "cell_type": "code",
   "execution_count": 48,
   "metadata": {},
   "outputs": [],
   "source": [
    "classes = ['CS103.txt', 'Econ160.txt', 'Phil187.txt', 'Phil80.txt', 'Psych50.txt', 'Stats101.txt', 'SymSys1.txt']\n",
    "scoreList = []\n",
    "\n",
    "for c in classes:\n",
    "    socClass = load_text(c)\n",
    "    soc = clean_text(socClass)    \n",
    "    freq = count_freq(soc)    \n",
    "    value, items = 0, 0\n",
    "    \n",
    "    for k,v in keyWords.items():\n",
    "        if k in freq:\n",
    "            value = value + v*freq[k]\n",
    "            items = items + freq[k]\n",
    "            score = value/items       \n",
    "\n",
    "    scoreList.append(score)"
   ]
  },
  {
   "cell_type": "code",
   "execution_count": 50,
   "metadata": {},
   "outputs": [
    {
     "data": {
      "image/png": "[encoded data removed]",
      "text/plain": [
       "<matplotlib.figure.Figure at 0x2448e86b668>"
      ]
     },
     "metadata": {},
     "output_type": "display_data"
    }
   ],
   "source": [
    "plt.figure(figsize=(10,6))\n",
    "plt.bar(classes,scoreList)\n",
    "plt.title('Class Rankings', fontsize=18)\n",
    "xlabels = ['CS103', 'Econ160', 'Phil187', 'Phil80', 'Psych50', 'Stats101', 'SymSys1']\n",
    "plt.xticks(classes, xlabels, rotation='vertical')\n",
    "plt.xlabel('Class',fontsize=12)\n",
    "plt.ylabel('Score',fontsize=12)\n",
    "plt.savefig('rankings.png')"
   ]
  },
  {
   "cell_type": "code",
   "execution_count": null,
   "metadata": {},
   "outputs": [],
   "source": []
  }
 ],
 "metadata": {
  "kernelspec": {
   "display_name": "Python 3",
   "language": "python",
   "name": "python3"
  },
  "language_info": {
   "codemirror_mode": {
    "name": "ipython",
    "version": 3
   },
   "file_extension": ".py",
   "mimetype": "text/x-python",
   "name": "python",
   "nbconvert_exporter": "python",
   "pygments_lexer": "ipython3",
   "version": "3.6.4"
  }
 },
 "nbformat": 4,
 "nbformat_minor": 2
}
